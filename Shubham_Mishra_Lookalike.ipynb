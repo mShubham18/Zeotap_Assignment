{
 "cells": [
  {
   "cell_type": "code",
   "execution_count": 27,
   "metadata": {},
   "outputs": [],
   "source": [
    "import pandas as pd\n",
    "import numpy as np\n",
    "import seaborn as sns\n",
    "import matplotlib.pyplot as plt"
   ]
  },
  {
   "cell_type": "code",
   "execution_count": 28,
   "metadata": {},
   "outputs": [],
   "source": [
    "df=pd.read_csv(\"Resources/Merged_dataset.csv\")"
   ]
  },
  {
   "cell_type": "code",
   "execution_count": 29,
   "metadata": {},
   "outputs": [
    {
     "data": {
      "text/plain": [
       "Index(['TransactionID', 'CustomerID', 'ProductID', 'TransactionDate',\n",
       "       'Quantity', 'TotalValue', 'Price', 'CustomerName', 'Region',\n",
       "       'SignupDate', 'ProductName', 'Category', 'DayOfWeek', 'Monthly'],\n",
       "      dtype='object')"
      ]
     },
     "execution_count": 29,
     "metadata": {},
     "output_type": "execute_result"
    }
   ],
   "source": [
    "df.columns"
   ]
  },
  {
   "cell_type": "code",
   "execution_count": 30,
   "metadata": {},
   "outputs": [
    {
     "name": "stdout",
     "output_type": "stream",
     "text": [
      "  CustomerID  TotalValue  TotalTransactions  TotalQuantity         Region  \\\n",
      "0      C0001     3354.52                  5             12  South America   \n",
      "1      C0002     1862.74                  4             10           Asia   \n",
      "2      C0003     2725.38                  4             14  South America   \n",
      "3      C0004     5354.88                  8             23  South America   \n",
      "4      C0005     2034.24                  3              7           Asia   \n",
      "\n",
      "  PreferredCategory  \n",
      "0       Electronics  \n",
      "1          Clothing  \n",
      "2        Home Decor  \n",
      "3             Books  \n",
      "4       Electronics  \n"
     ]
    }
   ],
   "source": [
    "customer_features = df.groupby('CustomerID').agg({\n",
    "    'TotalValue': 'sum',\n",
    "    'TransactionID': 'count',\n",
    "    'Quantity': 'sum',\n",
    "    'Region': 'first',\n",
    "    'Category': lambda x: x.mode()[0]\n",
    "}).reset_index()\n",
    "\n",
    "customer_features.rename(columns={\n",
    "    'TransactionID': 'TotalTransactions',\n",
    "    'Quantity': 'TotalQuantity',\n",
    "    'Category': 'PreferredCategory'\n",
    "}, inplace=True)\n",
    "\n",
    "print(customer_features.head())\n"
   ]
  },
  {
   "cell_type": "code",
   "execution_count": 31,
   "metadata": {},
   "outputs": [],
   "source": [
    "from sklearn.preprocessing import MinMaxScaler\n",
    "\n",
    "numerical_features = ['TotalValue', 'TotalTransactions', 'TotalQuantity']\n",
    "scaler = MinMaxScaler()\n",
    "\n",
    "\n",
    "customer_features[numerical_features] = scaler.fit_transform(customer_features[numerical_features])\n"
   ]
  },
  {
   "cell_type": "code",
   "execution_count": 32,
   "metadata": {},
   "outputs": [],
   "source": [
    "from sklearn.metrics.pairwise import cosine_similarity\n",
    "\n",
    "similarity_matrix = cosine_similarity(customer_features[numerical_features])\n",
    "\n",
    "similarity_df = pd.DataFrame(similarity_matrix, index=customer_features['CustomerID'], columns=customer_features['CustomerID'])\n"
   ]
  },
  {
   "cell_type": "markdown",
   "metadata": {},
   "source": [
    "Final"
   ]
  },
  {
   "cell_type": "markdown",
   "metadata": {},
   "source": [
    "1. Filter First 20 Customers as Input"
   ]
  },
  {
   "cell_type": "code",
   "execution_count": 33,
   "metadata": {},
   "outputs": [],
   "source": [
    "# Filter only the first 20 customers (C0001 to C0020)\n",
    "target_customers = ['C0001', 'C0002', 'C0003', 'C0004', 'C0005', \n",
    "                    'C0006', 'C0007', 'C0008', 'C0009', 'C0010', \n",
    "                    'C0011', 'C0012', 'C0013', 'C0014', 'C0015', \n",
    "                    'C0016', 'C0017', 'C0018', 'C0019', 'C0020']\n",
    "first_20_customers = customer_features[customer_features['CustomerID'].isin(target_customers)]"
   ]
  },
  {
   "cell_type": "markdown",
   "metadata": {},
   "source": [
    "2. Compute Pairwise Similarity Across All Customers"
   ]
  },
  {
   "cell_type": "code",
   "execution_count": 34,
   "metadata": {},
   "outputs": [],
   "source": [
    "# Compute similarity between all customers\n",
    "similarity_matrix = cosine_similarity(customer_features[numerical_features])"
   ]
  },
  {
   "cell_type": "code",
   "execution_count": 35,
   "metadata": {},
   "outputs": [],
   "source": [
    "# Convert similarity matrix to a DataFrame for easier lookup\n",
    "similarity_df = pd.DataFrame(similarity_matrix, \n",
    "                             index=customer_features['CustomerID'], \n",
    "                             columns=customer_features['CustomerID'])"
   ]
  },
  {
   "cell_type": "markdown",
   "metadata": {},
   "source": [
    "Finding `Top 3` Similar Customers for Each of the `20` Input Customers"
   ]
  },
  {
   "cell_type": "code",
   "execution_count": 36,
   "metadata": {},
   "outputs": [],
   "source": [
    "# Prepare Lookalike.csv data\n",
    "lookalike_data = []\n",
    "for customer in target_customers:\n",
    "    # Sort similarity scores for the current customer\n",
    "    top_similar = similarity_df[customer].sort_values(ascending=False).iloc[1:4]\n",
    "    \n",
    "    # Append the top 3 lookalikes with scores\n",
    "    lookalike_data.append([\n",
    "        customer,\n",
    "        top_similar.index[0], top_similar.values[0],\n",
    "        top_similar.index[1], top_similar.values[1],\n",
    "        top_similar.index[2], top_similar.values[2]\n",
    "    ])\n",
    "\n"
   ]
  },
  {
   "cell_type": "code",
   "execution_count": 37,
   "metadata": {},
   "outputs": [],
   "source": [
    "lookalike_df = pd.DataFrame(lookalike_data, columns=[\n",
    "    'CustomerID', 'lookalike1', 'score1', 'lookalike2', 'score2', 'lookalike3', 'score3'\n",
    "])\n",
    "lookalike_df.to_csv('Shubham_Mishra_Lookalike.csv', index=False)"
   ]
  },
  {
   "cell_type": "code",
   "execution_count": null,
   "metadata": {},
   "outputs": [],
   "source": []
  }
 ],
 "metadata": {
  "kernelspec": {
   "display_name": "Python 3",
   "language": "python",
   "name": "python3"
  },
  "language_info": {
   "codemirror_mode": {
    "name": "ipython",
    "version": 3
   },
   "file_extension": ".py",
   "mimetype": "text/x-python",
   "name": "python",
   "nbconvert_exporter": "python",
   "pygments_lexer": "ipython3",
   "version": "3.12.7"
  }
 },
 "nbformat": 4,
 "nbformat_minor": 2
}
